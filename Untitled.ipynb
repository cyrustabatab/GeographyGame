{
 "cells": [
  {
   "cell_type": "code",
   "execution_count": 1,
   "id": "challenging-integer",
   "metadata": {},
   "outputs": [],
   "source": [
    "import requests\n",
    "from bs4 import BeautifulSoup"
   ]
  },
  {
   "cell_type": "code",
   "execution_count": 13,
   "id": "tight-coordination",
   "metadata": {},
   "outputs": [],
   "source": [
    "url = 'https://github.com/djaiss/mapsicon/tree/master/us'"
   ]
  },
  {
   "cell_type": "code",
   "execution_count": 3,
   "id": "pending-designation",
   "metadata": {},
   "outputs": [],
   "source": [
    "try:\n",
    "    response = requests.get(url)\n",
    "    response.raise_for_status()\n",
    "except requests.HTTPError as e:\n",
    "    print(e)"
   ]
  },
  {
   "cell_type": "code",
   "execution_count": 4,
   "id": "terminal-personality",
   "metadata": {},
   "outputs": [],
   "source": [
    "soup = BeautifulSoup(response.text,'lxml')"
   ]
  },
  {
   "cell_type": "code",
   "execution_count": null,
   "id": "collectible-seeking",
   "metadata": {},
   "outputs": [],
   "source": [
    "https://github.com/djaiss/mapsicon/blob/master/us/ak/512.png"
   ]
  },
  {
   "cell_type": "code",
   "execution_count": 23,
   "id": "early-story",
   "metadata": {},
   "outputs": [
    {
     "name": "stdout",
     "output_type": "stream",
     "text": [
      "https://raw.githubusercontent.com/djaiss/mapsicon/master/us/ak/512.png\n",
      "https://raw.githubusercontent.com/djaiss/mapsicon/master/us/al/512.png\n",
      "https://raw.githubusercontent.com/djaiss/mapsicon/master/us/ar/512.png\n",
      "https://raw.githubusercontent.com/djaiss/mapsicon/master/us/az/512.png\n",
      "https://raw.githubusercontent.com/djaiss/mapsicon/master/us/ca/512.png\n",
      "https://raw.githubusercontent.com/djaiss/mapsicon/master/us/co/512.png\n",
      "https://raw.githubusercontent.com/djaiss/mapsicon/master/us/ct/512.png\n",
      "https://raw.githubusercontent.com/djaiss/mapsicon/master/us/de/512.png\n",
      "https://raw.githubusercontent.com/djaiss/mapsicon/master/us/fl/512.png\n",
      "https://raw.githubusercontent.com/djaiss/mapsicon/master/us/ga/512.png\n",
      "https://raw.githubusercontent.com/djaiss/mapsicon/master/us/hi/512.png\n",
      "https://raw.githubusercontent.com/djaiss/mapsicon/master/us/ia/512.png\n",
      "https://raw.githubusercontent.com/djaiss/mapsicon/master/us/id/512.png\n",
      "https://raw.githubusercontent.com/djaiss/mapsicon/master/us/il/512.png\n",
      "https://raw.githubusercontent.com/djaiss/mapsicon/master/us/in/512.png\n",
      "https://raw.githubusercontent.com/djaiss/mapsicon/master/us/ks/512.png\n",
      "https://raw.githubusercontent.com/djaiss/mapsicon/master/us/ky/512.png\n",
      "https://raw.githubusercontent.com/djaiss/mapsicon/master/us/la/512.png\n",
      "https://raw.githubusercontent.com/djaiss/mapsicon/master/us/ma/512.png\n",
      "https://raw.githubusercontent.com/djaiss/mapsicon/master/us/md/512.png\n",
      "https://raw.githubusercontent.com/djaiss/mapsicon/master/us/me/512.png\n",
      "https://raw.githubusercontent.com/djaiss/mapsicon/master/us/mi/512.png\n",
      "https://raw.githubusercontent.com/djaiss/mapsicon/master/us/mn/512.png\n",
      "https://raw.githubusercontent.com/djaiss/mapsicon/master/us/mo/512.png\n",
      "https://raw.githubusercontent.com/djaiss/mapsicon/master/us/ms/512.png\n",
      "https://raw.githubusercontent.com/djaiss/mapsicon/master/us/mt/512.png\n",
      "https://raw.githubusercontent.com/djaiss/mapsicon/master/us/nc/512.png\n",
      "https://raw.githubusercontent.com/djaiss/mapsicon/master/us/nd/512.png\n",
      "https://raw.githubusercontent.com/djaiss/mapsicon/master/us/ne/512.png\n",
      "https://raw.githubusercontent.com/djaiss/mapsicon/master/us/nh/512.png\n",
      "https://raw.githubusercontent.com/djaiss/mapsicon/master/us/nj/512.png\n",
      "https://raw.githubusercontent.com/djaiss/mapsicon/master/us/nm/512.png\n",
      "https://raw.githubusercontent.com/djaiss/mapsicon/master/us/nv/512.png\n",
      "https://raw.githubusercontent.com/djaiss/mapsicon/master/us/ny/512.png\n",
      "https://raw.githubusercontent.com/djaiss/mapsicon/master/us/oh/512.png\n",
      "https://raw.githubusercontent.com/djaiss/mapsicon/master/us/ok/512.png\n",
      "https://raw.githubusercontent.com/djaiss/mapsicon/master/us/or/512.png\n",
      "https://raw.githubusercontent.com/djaiss/mapsicon/master/us/pa/512.png\n",
      "https://raw.githubusercontent.com/djaiss/mapsicon/master/us/ri/512.png\n",
      "https://raw.githubusercontent.com/djaiss/mapsicon/master/us/sc/512.png\n",
      "https://raw.githubusercontent.com/djaiss/mapsicon/master/us/sd/512.png\n",
      "https://raw.githubusercontent.com/djaiss/mapsicon/master/us/tn/512.png\n",
      "https://raw.githubusercontent.com/djaiss/mapsicon/master/us/tx/512.png\n",
      "https://raw.githubusercontent.com/djaiss/mapsicon/master/us/us/512.png\n",
      "https://raw.githubusercontent.com/djaiss/mapsicon/master/us/ut/512.png\n",
      "https://raw.githubusercontent.com/djaiss/mapsicon/master/us/va/512.png\n",
      "https://raw.githubusercontent.com/djaiss/mapsicon/master/us/vt/512.png\n",
      "https://raw.githubusercontent.com/djaiss/mapsicon/master/us/wa/512.png\n",
      "https://raw.githubusercontent.com/djaiss/mapsicon/master/us/wi/512.png\n",
      "https://raw.githubusercontent.com/djaiss/mapsicon/master/us/wv/512.png\n",
      "https://raw.githubusercontent.com/djaiss/mapsicon/master/us/wy/512.png\n"
     ]
    }
   ],
   "source": [
    "url = 'https://github.com/djaiss/mapsicon/tree/master/us'\n",
    "states = soup.find_all('a',class_='js-navigation-open Link--primary')\n",
    "for state in states[:-1]:\n",
    "    title = state['title']\n",
    "    state_url = f\"{base_url}{title}/512.png\"\n",
    "    response = requests.get(state_url)\n",
    "    print(state_url)\n",
    "    with open(f\"country_images/{title}.png\",'wb') as f:\n",
    "        f.write(response.content)\n",
    "    \n"
   ]
  },
  {
   "cell_type": "code",
   "execution_count": 19,
   "id": "qualified-render",
   "metadata": {},
   "outputs": [],
   "source": [
    "base_url = 'https://raw.githubusercontent.com/djaiss/mapsicon/master/us/'"
   ]
  },
  {
   "cell_type": "code",
   "execution_count": 22,
   "id": "destroyed-casino",
   "metadata": {},
   "outputs": [
    {
     "data": {
      "text/plain": [
       "True"
      ]
     },
     "execution_count": 22,
     "metadata": {},
     "output_type": "execute_result"
    }
   ],
   "source": [
    "response."
   ]
  },
  {
   "cell_type": "code",
   "execution_count": 24,
   "id": "surprised-cleanup",
   "metadata": {},
   "outputs": [],
   "source": [
    "import pandas as pd"
   ]
  },
  {
   "cell_type": "code",
   "execution_count": 26,
   "id": "attached-choir",
   "metadata": {},
   "outputs": [],
   "source": [
    "x = pd.Series([None,None,None])"
   ]
  },
  {
   "cell_type": "code",
   "execution_count": 29,
   "id": "athletic-specification",
   "metadata": {},
   "outputs": [
    {
     "data": {
      "text/plain": [
       "nan"
      ]
     },
     "execution_count": 29,
     "metadata": {},
     "output_type": "execute_result"
    }
   ],
   "source": [
    "x.min()"
   ]
  },
  {
   "cell_type": "code",
   "execution_count": null,
   "id": "promotional-satisfaction",
   "metadata": {},
   "outputs": [],
   "source": []
  }
 ],
 "metadata": {
  "kernelspec": {
   "display_name": "Python 3",
   "language": "python",
   "name": "python3"
  },
  "language_info": {
   "codemirror_mode": {
    "name": "ipython",
    "version": 3
   },
   "file_extension": ".py",
   "mimetype": "text/x-python",
   "name": "python",
   "nbconvert_exporter": "python",
   "pygments_lexer": "ipython3",
   "version": "3.7.9"
  }
 },
 "nbformat": 4,
 "nbformat_minor": 5
}
