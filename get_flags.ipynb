{
 "cells": [
  {
   "cell_type": "code",
   "execution_count": 14,
   "id": "documentary-principal",
   "metadata": {},
   "outputs": [],
   "source": [
    "from selenium import webdriver\n",
    "import os"
   ]
  },
  {
   "cell_type": "code",
   "execution_count": 2,
   "id": "middle-addiction",
   "metadata": {},
   "outputs": [],
   "source": [
    "url = 'https://www.worldatlas.com/countries'"
   ]
  },
  {
   "cell_type": "code",
   "execution_count": 3,
   "id": "contrary-scene",
   "metadata": {},
   "outputs": [],
   "source": [
    "driver_path = \"C:/Development/chromedriver.exe\""
   ]
  },
  {
   "cell_type": "code",
   "execution_count": 7,
   "id": "married-technical",
   "metadata": {},
   "outputs": [],
   "source": [
    "driver = webdriver.Chrome(driver_path)"
   ]
  },
  {
   "cell_type": "code",
   "execution_count": 8,
   "id": "functioning-complement",
   "metadata": {},
   "outputs": [],
   "source": [
    "driver.get(url)"
   ]
  },
  {
   "cell_type": "code",
   "execution_count": 19,
   "id": "tribal-newcastle",
   "metadata": {},
   "outputs": [],
   "source": [
    "images = driver.find_elements_by_css_selector('li.country_landing_list_item img')\n",
    "for image in images:\n",
    "    text = image.get_attribute('alt')\n",
    "    text = text.split()\n",
    "    text = '_'.join(text[2:])\n",
    "    image.screenshot(os.path.join('flag_images',text+ '.png'))\n"
   ]
  },
  {
   "cell_type": "code",
   "execution_count": null,
   "id": "employed-yorkshire",
   "metadata": {},
   "outputs": [],
   "source": []
  }
 ],
 "metadata": {
  "kernelspec": {
   "display_name": "Python 3",
   "language": "python",
   "name": "python3"
  },
  "language_info": {
   "codemirror_mode": {
    "name": "ipython",
    "version": 3
   },
   "file_extension": ".py",
   "mimetype": "text/x-python",
   "name": "python",
   "nbconvert_exporter": "python",
   "pygments_lexer": "ipython3",
   "version": "3.7.9"
  }
 },
 "nbformat": 4,
 "nbformat_minor": 5
}
